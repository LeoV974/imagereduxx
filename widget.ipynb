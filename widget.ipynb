{
 "cells": [
  {
   "cell_type": "code",
   "execution_count": null,
   "metadata": {},
   "outputs": [
    {
     "data": {
      "application/vnd.jupyter.widget-view+json": {
       "model_id": "5cf8f7c6d4f1477da663079b370ec07f",
       "version_major": 2,
       "version_minor": 0
      },
      "text/plain": [
       "interactive(children=(IntSlider(value=50, description='k', max=3264, min=1), Output()), _dom_classes=('widget-…"
      ]
     },
     "metadata": {},
     "output_type": "display_data"
    },
    {
     "data": {
      "text/plain": [
       "<function __main__.reconstruct_image(k)>"
      ]
     },
     "execution_count": 1,
     "metadata": {},
     "output_type": "execute_result"
    }
   ],
   "source": [
    "import numpy as np\n",
    "import matplotlib.pyplot as plt\n",
    "from PIL import Image\n",
    "import ipywidgets as widgets\n",
    "from ipywidgets import interact\n",
    "\n",
    "img = Image.open(\"parrot.jpg\").convert(\"L\")\n",
    "img_matrix = np.array(img, dtype=float)\n",
    "U, s, Vt = np.linalg.svd(img_matrix, full_matrices=False)\n",
    "\n",
    "def reconstruct_image(k):\n",
    "    S = np.diag(s[:k])\n",
    "    img_reconstructed = np.dot(U[:, :k], np.dot(S, Vt[:k, :]))\n",
    "    plt.figure(figsize=(8, 6))\n",
    "    plt.imshow(img_reconstructed, cmap='gray')\n",
    "    plt.title(f\"Reconstructed Image using {k} singular values\")\n",
    "    plt.axis('off')\n",
    "    plt.show()\n",
    "\n",
    "# Create a slider widget. The maximum is set to the number of singular values\n",
    "interact(reconstruct_image, k=widgets.IntSlider(min=1, max=len(s), step=1, value=50))\n"
   ]
  },
  {
   "cell_type": "code",
   "execution_count": null,
   "metadata": {},
   "outputs": [],
   "source": []
  },
  {
   "cell_type": "code",
   "execution_count": null,
   "metadata": {},
   "outputs": [],
   "source": []
  }
 ],
 "metadata": {
  "kernelspec": {
   "display_name": "Python 3",
   "language": "python",
   "name": "python3"
  },
  "language_info": {
   "codemirror_mode": {
    "name": "ipython",
    "version": 3
   },
   "file_extension": ".py",
   "mimetype": "text/x-python",
   "name": "python",
   "nbconvert_exporter": "python",
   "pygments_lexer": "ipython3",
   "version": "3.9.13"
  }
 },
 "nbformat": 4,
 "nbformat_minor": 2
}
